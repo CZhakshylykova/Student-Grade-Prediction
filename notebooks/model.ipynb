{
 "cells": [
  {
   "cell_type": "markdown",
   "metadata": {},
   "source": [
    "# 🎓 Student Performance Prediction – Regression Models\n",
    "\n",
    "## Project Goal\n",
    "The goal of this analysis is to build and compare different regression models \n",
    "to predict the final student grade (**G3**) based on demographic, social, and academic features.  \n",
    "\n",
    "## Why It Matters\n",
    "By identifying the most important predictors of student performance, \n",
    "educators and policymakers can better support students at risk of failing \n",
    "and promote positive study habits.\n",
    "\n",
    "## Models Compared\n",
    "- Linear Regression (baseline model)  \n",
    "- Random Forest Regressor (non-linear ensemble model)  \n",
    "- XGBoost Regressor (gradient boosting, state-of-the-art for tabular data)\n",
    "\n",
    "## Evaluation Metrics\n",
    "- **MAE (Mean Absolute Error)** → average absolute prediction error  \n",
    "- **RMSE (Root Mean Squared Error)** → penalizes large errors  \n",
    "- **R² (Coefficient of Determination)** → proportion of explained variance  "
   ]
  },
  {
   "cell_type": "code",
   "execution_count": 2,
   "metadata": {},
   "outputs": [],
   "source": [
    "# =============== 1. Setup ===============\n",
    "from sklearn.model_selection import train_test_split\n",
    "from sklearn.linear_model import LinearRegression\n",
    "from sklearn.ensemble import RandomForestRegressor\n",
    "from sklearn.metrics import mean_absolute_error, mean_squared_error, r2_score\n",
    "from sklearn.preprocessing import OneHotEncoder\n",
    "from sklearn.compose import ColumnTransformer\n",
    "from sklearn.pipeline import Pipeline\n",
    "import numpy as np\n",
    "import pandas as pd\n",
    "\n",
    "import xgboost as xgb\n",
    "from ngboost import NGBRegressor\n",
    "from ngboost.distns import Normal\n",
    "import matplotlib\n",
    "matplotlib.use(\"Agg\")   # headless backend\n",
    "import matplotlib.pyplot as plt\n",
    "%matplotlib inline"
   ]
  },
  {
   "cell_type": "markdown",
   "metadata": {},
   "source": [
    "## Data Preparation\n",
    "Splitting the dataset into training and test sets, and applying preprocessing \n",
    "(OneHotEncoding for categorical features, passthrough for numerical features)."
   ]
  },
  {
   "cell_type": "code",
   "execution_count": 3,
   "metadata": {},
   "outputs": [],
   "source": [
    "# Features & Target\n",
    "df = pd.read_csv(\"../student-mat.csv\", sep=\";\")\n",
    "\n",
    "X = df.drop(columns=[\"G3\"])\n",
    "y = df[\"G3\"]\n",
    "\n",
    "cat_features = X.select_dtypes(include=[\"object\"]).columns\n",
    "num_features = X.select_dtypes(exclude=[\"object\"]).columns\n",
    "\n",
    "X_train, X_test, y_train, y_test = train_test_split(X, y, test_size=0.2, random_state=42)\n",
    "\n",
    "# Preprocessor\n",
    "preprocessor = ColumnTransformer(\n",
    "    transformers=[\n",
    "        (\"cat\", OneHotEncoder(drop=\"first\", sparse_output=False), cat_features),\n",
    "        (\"num\", \"passthrough\", num_features)\n",
    "    ]\n",
    ")\n"
   ]
  },
  {
   "cell_type": "markdown",
   "metadata": {},
   "source": [
    "##  Model Training & Evaluation\n",
    "Three models are trained and evaluated on the test set using MAE, RMSE, and R².\n"
   ]
  },
  {
   "cell_type": "code",
   "execution_count": 4,
   "metadata": {},
   "outputs": [
    {
     "data": {
      "text/html": [
       "<div>\n",
       "<style scoped>\n",
       "    .dataframe tbody tr th:only-of-type {\n",
       "        vertical-align: middle;\n",
       "    }\n",
       "\n",
       "    .dataframe tbody tr th {\n",
       "        vertical-align: top;\n",
       "    }\n",
       "\n",
       "    .dataframe thead th {\n",
       "        text-align: right;\n",
       "    }\n",
       "</style>\n",
       "<table border=\"1\" class=\"dataframe\">\n",
       "  <thead>\n",
       "    <tr style=\"text-align: right;\">\n",
       "      <th></th>\n",
       "      <th>Model</th>\n",
       "      <th>MAE</th>\n",
       "      <th>RMSE</th>\n",
       "      <th>R²</th>\n",
       "    </tr>\n",
       "  </thead>\n",
       "  <tbody>\n",
       "    <tr>\n",
       "      <th>0</th>\n",
       "      <td>Linear Regression</td>\n",
       "      <td>1.646666</td>\n",
       "      <td>2.378370</td>\n",
       "      <td>0.724134</td>\n",
       "    </tr>\n",
       "    <tr>\n",
       "      <th>1</th>\n",
       "      <td>Random Forest</td>\n",
       "      <td>1.190696</td>\n",
       "      <td>1.983077</td>\n",
       "      <td>0.808213</td>\n",
       "    </tr>\n",
       "    <tr>\n",
       "      <th>2</th>\n",
       "      <td>XGBoost</td>\n",
       "      <td>1.223413</td>\n",
       "      <td>2.081294</td>\n",
       "      <td>0.788745</td>\n",
       "    </tr>\n",
       "  </tbody>\n",
       "</table>\n",
       "</div>"
      ],
      "text/plain": [
       "               Model       MAE      RMSE        R²\n",
       "0  Linear Regression  1.646666  2.378370  0.724134\n",
       "1      Random Forest  1.190696  1.983077  0.808213\n",
       "2            XGBoost  1.223413  2.081294  0.788745"
      ]
     },
     "metadata": {},
     "output_type": "display_data"
    }
   ],
   "source": [
    "# =============== 2. Models ===============\n",
    "models = {\n",
    "    \"Linear Regression\": LinearRegression(),\n",
    "    \"Random Forest\": RandomForestRegressor(n_estimators=200, random_state=42),\n",
    "    \"XGBoost\": xgb.XGBRegressor(n_estimators=200, learning_rate=0.1, max_depth=4, random_state=42)}\n",
    "\n",
    "results = []\n",
    "\n",
    "# =============== 3. Training & Evaluation ===============\n",
    "for name, model in models.items():\n",
    "    pipe = Pipeline(steps=[(\"preprocessor\", preprocessor),\n",
    "                           (\"regressor\", model)])\n",
    "    \n",
    "    pipe.fit(X_train, y_train)\n",
    "    y_pred = pipe.predict(X_test)\n",
    "    \n",
    "    mae = mean_absolute_error(y_test, y_pred)\n",
    "    rmse = np.sqrt(mean_squared_error(y_test, y_pred))\n",
    "    r2 = r2_score(y_test, y_pred)\n",
    "    \n",
    "    results.append({\"Model\": name, \"MAE\": mae, \"RMSE\": rmse, \"R²\": r2})\n",
    "\n",
    "results_df = pd.DataFrame(results)\n",
    "display(results_df)"
   ]
  },
  {
   "cell_type": "markdown",
   "metadata": {},
   "source": [
    "## Feature Importance (XGBoost)\n",
    "To interpret the best-performing model (XGBoost), feature importance values are extracted and visualized.\n"
   ]
  },
  {
   "cell_type": "code",
   "execution_count": 5,
   "metadata": {},
   "outputs": [
    {
     "data": {
      "image/png": "[encoded data removed]",
      "text/plain": [
       "<Figure size 800x600 with 1 Axes>"
      ]
     },
     "metadata": {},
     "output_type": "display_data"
    }
   ],
   "source": [
    "import matplotlib.pyplot as plt\n",
    "\n",
    "# Train XGBoost separately for feature importance\n",
    "xgb_model = xgb.XGBRegressor(n_estimators=200, learning_rate=0.1, max_depth=4, random_state=42)\n",
    "xgb_pipe = Pipeline(steps=[(\"preprocessor\", preprocessor),\n",
    "                           (\"regressor\", xgb_model)])\n",
    "xgb_pipe.fit(X_train, y_train)\n",
    "\n",
    "# Extract feature importance\n",
    "feature_names = xgb_pipe.named_steps[\"preprocessor\"].get_feature_names_out()\n",
    "importances = xgb_pipe.named_steps[\"regressor\"].feature_importances_\n",
    "\n",
    "importance_df = pd.DataFrame({\"Feature\": feature_names, \"Importance\": importances})\n",
    "importance_df = importance_df.sort_values(by=\"Importance\", ascending=False).head(15)\n",
    "\n",
    "plt.figure(figsize=(8,6))\n",
    "plt.barh(importance_df[\"Feature\"], importance_df[\"Importance\"])\n",
    "plt.gca().invert_yaxis()\n",
    "plt.title(\"XGBoost Feature Importances\")\n",
    "plt.show()"
   ]
  },
  {
   "cell_type": "markdown",
   "metadata": {},
   "source": [
    "##  Conclusions\n",
    "\n",
    "- **RandomForestRegressor** achieved the best performance (highest R², lowest error), outperforming Linear Regression and Suprisingly XGboost.  \n",
    "- The most influential predictors were **early grades (G1, G2)**, **study time**, and **absences**.  \n",
    "- This confirms that consistent study habits and early academic performance are strong indicators of final success.  \n",
    "- **Next Steps**:  \n",
    "  - Perform hyperparameter tuning (e.g., GridSearchCV) to further optimize XGBoost.  \n",
    "  - Explore probabilistic models such as **NGBoost** to provide uncertainty estimates for predictions.  \n",
    "  - Consider deployment of the model (e.g., via Streamlit) for real-world applications.\n"
   ]
  },
  {
   "cell_type": "code",
   "execution_count": 6,
   "metadata": {},
   "outputs": [
    {
     "data": {
      "text/plain": [
       "['regression_model.pkl']"
      ]
     },
     "execution_count": 6,
     "metadata": {},
     "output_type": "execute_result"
    }
   ],
   "source": [
    "# Save the trained model to a file\n",
    "import joblib\n",
    "joblib.dump(RandomForestRegressor(n_estimators=200), 'regression_model.pkl')"
   ]
  }
 ],
 "metadata": {
  "kernelspec": {
   "display_name": ".venv",
   "language": "python",
   "name": "python3"
  },
  "language_info": {
   "codemirror_mode": {
    "name": "ipython",
    "version": 3
   },
   "file_extension": ".py",
   "mimetype": "text/x-python",
   "name": "python",
   "nbconvert_exporter": "python",
   "pygments_lexer": "ipython3",
   "version": "3.13.4"
  }
 },
 "nbformat": 4,
 "nbformat_minor": 2
}
